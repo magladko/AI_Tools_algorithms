{
  "nbformat": 4,
  "nbformat_minor": 0,
  "metadata": {
    "colab": {
      "name": "mpp5.ipynb",
      "provenance": [],
      "collapsed_sections": [],
      "authorship_tag": "ABX9TyPoKkUWAjTinO6RDPhbcFY+",
      "include_colab_link": true
    },
    "kernelspec": {
      "name": "python3",
      "display_name": "Python 3"
    },
    "language_info": {
      "name": "python"
    }
  },
  "cells": [
    {
      "cell_type": "markdown",
      "metadata": {
        "id": "view-in-github",
        "colab_type": "text"
      },
      "source": [
        "<a href=\"https://colab.research.google.com/github/magladko/NAI/blob/master/mpp5/mpp5.ipynb\" target=\"_parent\"><img src=\"https://colab.research.google.com/assets/colab-badge.svg\" alt=\"Open In Colab\"/></a>"
      ]
    },
    {
      "cell_type": "markdown",
      "source": [
        "#mpp5 - Naiwny klasyfikator Bayesa\n",
        "###@s22411"
      ],
      "metadata": {
        "id": "u772cmKLu1XB"
      }
    },
    {
      "cell_type": "code",
      "source": [
        "import pandas as pd"
      ],
      "metadata": {
        "id": "WZEtCLSN1ZoC"
      },
      "execution_count": 174,
      "outputs": []
    },
    {
      "cell_type": "code",
      "source": [
        "# available data options\n",
        "options = {'price': ['vhigh', 'high', 'med', 'low'], \n",
        "           'maintenance': ['high', 'med', 'low'],\n",
        "           'door_nr': [2, 3, 4, '5more'],\n",
        "           'ppl_capacity': [2, 4, 'more'],\n",
        "           'trunk_capacity': ['small', 'med', 'big'],\n",
        "           'safety': ['low', 'med', 'high'],\n",
        "           'def_decision': ['unacc', 'acc', 'good', 'vgood']}"
      ],
      "metadata": {
        "id": "QtnZe6coGqLX"
      },
      "execution_count": 175,
      "outputs": []
    },
    {
      "cell_type": "code",
      "source": [
        "train_df = pd.read_csv(\"https://raw.githubusercontent.com/magladko/NAI/master/mpp5/data/train\", \n",
        "                       header=None, names=list(options.keys()))\n",
        "\n",
        "test_df = pd.read_csv(\"https://raw.githubusercontent.com/magladko/NAI/master/mpp5/data/test\", \n",
        "                       header=None, names=list(options.keys()))"
      ],
      "metadata": {
        "id": "oXZn6ueq5DDh"
      },
      "execution_count": 176,
      "outputs": []
    },
    {
      "cell_type": "code",
      "execution_count": 177,
      "metadata": {
        "id": "TVe1uftQuzpH",
        "cellView": "form"
      },
      "outputs": [],
      "source": [
        "#@title Czy wygładzać { run: \"auto\" }\n",
        "smoothing = True #@param {type:\"boolean\"}\n"
      ]
    },
    {
      "cell_type": "code",
      "source": [
        "decisions = train_df[\"def_decision\"].unique()"
      ],
      "metadata": {
        "id": "qp7tVNjx7SBi"
      },
      "execution_count": 178,
      "outputs": []
    },
    {
      "cell_type": "code",
      "source": [
        "def bayes(row, smoothing, options, df):\n",
        "    result = dict((decision, 1) for decision in options['def_decision'])    # result of the multiplications\n",
        "    for decision in options['def_decision']:\n",
        "\n",
        "        considered_df = df[df['def_decision'] == decision]  # only where decision occurs\n",
        "        decision_count = len(considered_df)                             # number of records with considered decision\n",
        "        \n",
        "        # iterate through columns and values in considered row\n",
        "        # print(len(row.keys()))\n",
        "        for i in range(len(row.keys())):\n",
        "            column = row.keys()[i]\n",
        "            value = row[row.keys()[i]]\n",
        "\n",
        "            # number of occurences with considered decision\n",
        "            attr_occurences = len(considered_df[considered_df[column] == value])\n",
        " \n",
        "            if smoothing:\n",
        "                result[decision] *= (attr_occurences + 1) / (decision_count + len(options[column]))\n",
        "            else:\n",
        "                result[decision] *= attr_occurences / decision_count\n",
        "\n",
        "        result[decision] *= decision_count / len(df)\n",
        "    return result"
      ],
      "metadata": {
        "id": "Rb4-BGGjle4H"
      },
      "execution_count": 179,
      "outputs": []
    },
    {
      "cell_type": "code",
      "source": [
        "correct_count = 0\n",
        "\n",
        "for index, test_row in test_df.iterrows():\n",
        "    result = bayes(test_row, smoothing, options, train_df)\n",
        "    calculated_decison = max(result, key=result.get)\n",
        "    correct_count += 1 if calculated_decison == test_row['def_decision'] else 0\n",
        "    \n",
        "    # print(result)\n",
        "\n",
        "print(\"dokładność:\", str(correct_count/len(test_df)*100) + '%')"
      ],
      "metadata": {
        "colab": {
          "base_uri": "https://localhost:8080/"
        },
        "id": "9Ke3CoSh__cD",
        "outputId": "a4fee4b3-abd9-4541-b503-9486b369d3fb"
      },
      "execution_count": 180,
      "outputs": [
        {
          "output_type": "stream",
          "name": "stdout",
          "text": [
            "dokładność: 100.0%\n"
          ]
        }
      ]
    },
    {
      "cell_type": "code",
      "source": [
        "#@title Custom record { run: \"auto\" }\n",
        "koszt_zakupu = \"vhigh\" #@param [\"vhigh\", \"high\", \"med\", \"low\"]\n",
        "koszt_utrzymania = \"high\" #@param [\"high\", \"med\", \"low\"]\n",
        "liczba_drzwi = \"2\" #@param [\"2\", \"3\", \"4\", \"5more\"]\n",
        "ile_osob = \"2\" #@param [\"2\", \"4\", \"more\"]\n",
        "bagaznik = \"small\" #@param [\"small\", \"med\", \"big\"]\n",
        "bezpieczenstwo = \"low\" #@param [\"low\", \"med\", \"high\"]\n",
        "\n",
        "\n",
        "custom_df = pd.DataFrame(data=[[koszt_zakupu, koszt_utrzymania, liczba_drzwi,\n",
        "                                ile_osob, bagaznik, bezpieczenstwo, \"\"]], \n",
        "                         columns=list(options.keys()))\n"
      ],
      "metadata": {
        "id": "Wz4-q1zSragr"
      },
      "execution_count": 197,
      "outputs": []
    },
    {
      "cell_type": "code",
      "source": [
        "res_dict = bayes(custom_df.iloc[0], smoothing, options, train_df)\n",
        "res = max(res_dict, key=res_dict.get)\n",
        "\n",
        "print(res_dict)\n",
        "print(res)"
      ],
      "metadata": {
        "colab": {
          "base_uri": "https://localhost:8080/"
        },
        "id": "4hsm5MyesJaC",
        "outputId": "941538e3-f483-461f-db77-bf7e4472bcc3"
      },
      "execution_count": 198,
      "outputs": [
        {
          "output_type": "stream",
          "name": "stdout",
          "text": [
            "{'unacc': 1.0100223118898047e-06, 'acc': 1.1998456551479511e-11, 'good': 1.5364643592297637e-12, 'vgood': 1.312337285966582e-12}\n",
            "unacc\n"
          ]
        }
      ]
    }
  ]
}