{
  "nbformat": 4,
  "nbformat_minor": 0,
  "metadata": {
    "colab": {
      "name": "mpp6.ipynb",
      "provenance": [],
      "collapsed_sections": [],
      "authorship_tag": "ABX9TyMMTwyJJqXKQBzkwhhs11dn",
      "include_colab_link": true
    },
    "kernelspec": {
      "name": "python3",
      "display_name": "Python 3"
    },
    "language_info": {
      "name": "python"
    }
  },
  "cells": [
    {
      "cell_type": "markdown",
      "metadata": {
        "id": "view-in-github",
        "colab_type": "text"
      },
      "source": [
        "<a href=\"https://colab.research.google.com/github/magladko/NAI/blob/master/mpp6/mpp6.ipynb\" target=\"_parent\"><img src=\"https://colab.research.google.com/assets/colab-badge.svg\" alt=\"Open In Colab\"/></a>"
      ]
    },
    {
      "cell_type": "markdown",
      "source": [
        "#Knapsack bruteforce solution\n",
        "###@Kornel Gładkowski"
      ],
      "metadata": {
        "id": "zo6NSvxf3NXm"
      }
    },
    {
      "cell_type": "markdown",
      "source": [
        "##Input data"
      ],
      "metadata": {
        "id": "GwayT2jM3WeR"
      }
    },
    {
      "cell_type": "code",
      "execution_count": 84,
      "metadata": {
        "colab": {
          "base_uri": "https://localhost:8080/"
        },
        "id": "0Mq6JPHm2wmw",
        "outputId": "e2cc077b-ffba-49b1-db22-159bce9f0727"
      },
      "outputs": [
        {
          "output_type": "stream",
          "name": "stdout",
          "text": [
            "26 26\n"
          ]
        }
      ],
      "source": [
        "capacity = 30\n",
        "sizes = [1,10,1, 5, 8, 7, 1, 2, 8, 6, 1, 8, 6, 9, 6, 8, 4, 6, 5, 2, 4, 3, 5, 6, 5, 6]\n",
        "vals = [12,14,15,16,15,20,10,10,14,5, 18,8, 12,2, 14,18,20,5, 18,6, 14,5, 1, 11,12, 13] \n",
        "\n",
        "# sizes = [1,10,1, 5, 8, 7, 1, 2, 8]\n",
        "# vals = [12,14,15,16,15,20,10,10,14] \n",
        "\n",
        "print(len(sizes), len(vals))"
      ]
    },
    {
      "cell_type": "code",
      "source": [
        "def print_status(iteration : int, max_val: int, best_size : int, curr_vector : str):\n",
        "    print(str(iteration) + \":\")\n",
        "    print(\"\\tmax_val = \" + str(max_val))\n",
        "    print(\"\\tbest_size = \" + str(best_size))\n",
        "    print(\"\\tvector = \" + curr_vector)"
      ],
      "metadata": {
        "id": "adtuCerqACvZ"
      },
      "execution_count": 61,
      "outputs": []
    },
    {
      "cell_type": "code",
      "source": [
        "def calculate_best(sizes : list, vals : list, capacity: int, enable_print : bool) -> str:\n",
        "    vector = '0'*len(sizes)\n",
        "    max_val = 0\n",
        "    best_size = 0\n",
        "    for v in range(2**len(sizes)):\n",
        "        curr_val = 0\n",
        "        curr_size = 0\n",
        "        for i, j in zip(str(bin(v))[2:], range(len(vals))):\n",
        "            if i == '1':\n",
        "                curr_val += vals[j]\n",
        "                curr_size += sizes[j]\n",
        "            if curr_size > capacity:\n",
        "                break\n",
        "        if curr_size <= capacity and curr_val > max_val:\n",
        "            max_val = curr_val\n",
        "            best_size = curr_size\n",
        "            vector = str(bin(v))[2:]\n",
        "            vector += '0'*(len(sizes)-len(vector))\n",
        "            if enable_print:\n",
        "                print_status(v, max_val, best_size, vector)\n",
        "    return vector"
      ],
      "metadata": {
        "id": "GglvnE8p3ekO"
      },
      "execution_count": 104,
      "outputs": []
    },
    {
      "cell_type": "code",
      "source": [
        "print(calculate_best(sizes, vals, capacity, True))"
      ],
      "metadata": {
        "colab": {
          "base_uri": "https://localhost:8080/"
        },
        "id": "GcUQj7PeGEF4",
        "outputId": "70ea7272-a701-4cbe-d0db-3f52ec680709"
      },
      "execution_count": 105,
      "outputs": [
        {
          "output_type": "stream",
          "name": "stdout",
          "text": [
            "1:\n",
            "\tmax_val = 12\n",
            "\tbest_size = 1\n",
            "\tvector = 10000000000000000000000000\n",
            "3:\n",
            "\tmax_val = 26\n",
            "\tbest_size = 11\n",
            "\tvector = 11000000000000000000000000\n",
            "5:\n",
            "\tmax_val = 27\n",
            "\tbest_size = 2\n",
            "\tvector = 10100000000000000000000000\n",
            "7:\n",
            "\tmax_val = 41\n",
            "\tbest_size = 12\n",
            "\tvector = 11100000000000000000000000\n",
            "11:\n",
            "\tmax_val = 43\n",
            "\tbest_size = 7\n",
            "\tvector = 10110000000000000000000000\n",
            "15:\n",
            "\tmax_val = 57\n",
            "\tbest_size = 17\n",
            "\tvector = 11110000000000000000000000\n",
            "23:\n",
            "\tmax_val = 58\n",
            "\tbest_size = 15\n",
            "\tvector = 10111000000000000000000000\n",
            "31:\n",
            "\tmax_val = 72\n",
            "\tbest_size = 25\n",
            "\tvector = 11111000000000000000000000\n",
            "47:\n",
            "\tmax_val = 78\n",
            "\tbest_size = 22\n",
            "\tvector = 10111100000000000000000000\n",
            "95:\n",
            "\tmax_val = 88\n",
            "\tbest_size = 23\n",
            "\tvector = 10111110000000000000000000\n",
            "191:\n",
            "\tmax_val = 98\n",
            "\tbest_size = 25\n",
            "\tvector = 10111111000000000000000000\n",
            "1149:\n",
            "\tmax_val = 99\n",
            "\tbest_size = 28\n",
            "\tvector = 10001111101000000000000000\n",
            "1213:\n",
            "\tmax_val = 100\n",
            "\tbest_size = 25\n",
            "\tvector = 10010111101000000000000000\n",
            "1273:\n",
            "\tmax_val = 101\n",
            "\tbest_size = 25\n",
            "\tvector = 10011111001000000000000000\n",
            "1343:\n",
            "\tmax_val = 104\n",
            "\tbest_size = 27\n",
            "\tvector = 10100111111000000000000000\n",
            "1403:\n",
            "\tmax_val = 105\n",
            "\tbest_size = 27\n",
            "\tvector = 10101111011000000000000000\n",
            "1405:\n",
            "\tmax_val = 114\n",
            "\tbest_size = 29\n",
            "\tvector = 10101111101000000000000000\n",
            "1469:\n",
            "\tmax_val = 115\n",
            "\tbest_size = 26\n",
            "\tvector = 10110111101000000000000000\n",
            "1529:\n",
            "\tmax_val = 116\n",
            "\tbest_size = 26\n",
            "\tvector = 10111111001000000000000000\n",
            "5845:\n",
            "\tmax_val = 117\n",
            "\tbest_size = 30\n",
            "\tvector = 10110110101010000000000000\n",
            "5869:\n",
            "\tmax_val = 118\n",
            "\tbest_size = 30\n",
            "\tvector = 10110111011010000000000000\n",
            "23377:\n",
            "\tmax_val = 119\n",
            "\tbest_size = 30\n",
            "\tvector = 10110110101000100000000000\n",
            "23445:\n",
            "\tmax_val = 127\n",
            "\tbest_size = 30\n",
            "\tvector = 10110111001010100000000000\n",
            "83543:\n",
            "\tmax_val = 129\n",
            "\tbest_size = 30\n",
            "\tvector = 10100011001010111000000000\n",
            "85589:\n",
            "\tmax_val = 131\n",
            "\tbest_size = 29\n",
            "\tvector = 10100111001010101000000000\n",
            "91719:\n",
            "\tmax_val = 133\n",
            "\tbest_size = 29\n",
            "\tvector = 10110011001000111000000000\n",
            "93763:\n",
            "\tmax_val = 139\n",
            "\tbest_size = 30\n",
            "\tvector = 10110111001000011000000000\n",
            "342285:\n",
            "\tmax_val = 141\n",
            "\tbest_size = 30\n",
            "\tvector = 10100111001000011010000000\n",
            "684587:\n",
            "\tmax_val = 143\n",
            "\tbest_size = 30\n",
            "\tvector = 10100111001000101011000000\n",
            "750091:\n",
            "\tmax_val = 145\n",
            "\tbest_size = 29\n",
            "\tvector = 10110111001000001011000000\n",
            "1467477:\n",
            "\tmax_val = 147\n",
            "\tbest_size = 30\n",
            "\tvector = 10110011001000101010100000\n",
            "10110011001000101010100000\n"
          ]
        }
      ]
    }
  ]
}