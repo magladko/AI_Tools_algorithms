{
  "nbformat": 4,
  "nbformat_minor": 0,
  "metadata": {
    "colab": {
      "name": "mpp4.ipynb",
      "provenance": [],
      "collapsed_sections": [],
      "authorship_tag": "ABX9TyOT5PkRVZdq3/3eKNChgLc9",
      "include_colab_link": true
    },
    "kernelspec": {
      "name": "python3",
      "display_name": "Python 3"
    },
    "language_info": {
      "name": "python"
    }
  },
  "cells": [
    {
      "cell_type": "markdown",
      "metadata": {
        "id": "view-in-github",
        "colab_type": "text"
      },
      "source": [
        "<a href=\"https://colab.research.google.com/github/magladko/NAI/blob/master/mpp4/mpp4.ipynb\" target=\"_parent\"><img src=\"https://colab.research.google.com/assets/colab-badge.svg\" alt=\"Open In Colab\"/></a>"
      ]
    },
    {
      "cell_type": "markdown",
      "source": [
        "#K-means – NAI mini-project\n",
        "###*Kornel Gładkowski @s22411*"
      ],
      "metadata": {
        "id": "5_J54hV_T7zl"
      }
    },
    {
      "cell_type": "markdown",
      "source": [
        "##Import libs, mount drives"
      ],
      "metadata": {
        "id": "B8Uhd2LtUJip"
      }
    },
    {
      "cell_type": "code",
      "execution_count": null,
      "metadata": {
        "id": "dbpK7UIhSzzN"
      },
      "outputs": [],
      "source": [
        "import matplotlib.pyplot as plt\n",
        "import seaborn as sns\n",
        "import pandas as pd\n",
        "import numpy as np\n",
        "\n",
        "# from google.colab import drive\n",
        "# drive.mount('/content/drive')\n",
        "\n",
        "# !git clone https://github.com/magladko/NAI.git"
      ]
    },
    {
      "cell_type": "markdown",
      "source": [
        "##Util functions"
      ],
      "metadata": {
        "id": "o4dXjscDgmkL"
      }
    },
    {
      "cell_type": "code",
      "source": [
        "def calculate_centroid(df: pd.DataFrame, cluster_id: int):\n",
        "    length = len(df.loc[df[\"cluster\"] == cluster_id])\n",
        "    if length == 0:\n",
        "        return None\n",
        "    res = df.loc[df[\"cluster\"] == cluster_id].iloc[:, 1:-k-1].sum(axis=0)/length\n",
        "    return res\n",
        "\n",
        "def get_dist_sq(points: pd.DataFrame, centroid: pd.Series):\n",
        "    res = (points.subtract(centroid)**2)\n",
        "    res[\"sum\"] = res.sum(axis=1)\n",
        "    return res[\"sum\"]"
      ],
      "metadata": {
        "id": "bMPcEzbVZIJ2"
      },
      "execution_count": null,
      "outputs": []
    },
    {
      "cell_type": "markdown",
      "source": [
        "##Set user input\n",
        "\n",
        "- raw path iris: https://raw.githubusercontent.com/magladko/NAI/master/mpp4/data/iris_all.csv\n",
        "\n",
        "- raw path dane_testowe.csv: https://raw.githubusercontent.com/magladko/NAI/master/mpp4/data/dane_testowe.csv"
      ],
      "metadata": {
        "id": "w5RbMIbCUSkN"
      }
    },
    {
      "cell_type": "code",
      "source": [
        "#@title Enter number of class { run: \"auto\", display-mode: \"form\" }\n",
        "k = 2 #@param {type:\"slider\", min:1, max:10, step:1}\n",
        "DATA_PATH = \"https://raw.githubusercontent.com/magladko/NAI/master/mpp4/data/dane_testowe.csv\" #@param {type:\"string\"}\n"
      ],
      "metadata": {
        "id": "VNmUTZBIVhzk"
      },
      "execution_count": null,
      "outputs": []
    },
    {
      "cell_type": "markdown",
      "source": [
        "##Initialize data\n",
        "Read data & assign random cluster to observation"
      ],
      "metadata": {
        "id": "lxkxf7i8WJxa"
      }
    },
    {
      "cell_type": "code",
      "source": [
        "base_df = pd.read_csv(DATA_PATH) #  + \"iris_all.csv\"\n",
        "train_df = base_df.iloc[:, :-1]\n",
        "\n",
        "train_df['cluster'] = np.random.randint(1, k+1, train_df.shape[0])\n",
        "\n",
        "# assign random values until all possibles values have assigned observation\n",
        "while not np.all(np.isin([i for i in range(1, k+1)] ,train_df['cluster'].unique())):\n",
        "    train_df['cluster'] = np.random.randint(1, k+1, train_df.shape[0])\n",
        "\n",
        "# initialize distances from clusters\n",
        "for i in range(1, k+1):\n",
        "    train_df[i] = np.NaN\n",
        "\n",
        "# initialize centroids of clusters\n",
        "centroids = pd.DataFrame(columns=train_df.iloc[:, 1: -k-1].columns)\n",
        "\n",
        "for i in range(1, k+1):\n",
        "    temp = calculate_centroid(train_df, i)\n",
        "    centroids.loc[i] = temp if temp is not None else pd.Series([np.NaN]*k)\n",
        "\n",
        "print(\"cluster centroids:\")\n",
        "print(centroids, end='\\n\\n')\n",
        "train_df"
      ],
      "metadata": {
        "id": "LTCBCUz4WPZ3",
        "colab": {
          "base_uri": "https://localhost:8080/",
          "height": 293
        },
        "outputId": "eae9bfb3-b95e-4950-c0e0-89db321470e7"
      },
      "execution_count": null,
      "outputs": [
        {
          "output_type": "stream",
          "name": "stdout",
          "text": [
            "cluster centroids:\n",
            "          x         y\n",
            "1 -3.500000 -0.500000\n",
            "2  1.333333  0.666667\n",
            "\n"
          ]
        },
        {
          "output_type": "execute_result",
          "data": {
            "text/plain": [
              "   nr  x  y  cluster   1   2\n",
              "0   1 -5  0        2 NaN NaN\n",
              "1   2 -4  1        1 NaN NaN\n",
              "2   3 -3 -2        1 NaN NaN\n",
              "3   4  4  0        2 NaN NaN\n",
              "4   5  5  2        2 NaN NaN"
            ],
            "text/html": [
              "\n",
              "  <div id=\"df-a950cc77-c888-4410-a454-c70e7ac09db3\">\n",
              "    <div class=\"colab-df-container\">\n",
              "      <div>\n",
              "<style scoped>\n",
              "    .dataframe tbody tr th:only-of-type {\n",
              "        vertical-align: middle;\n",
              "    }\n",
              "\n",
              "    .dataframe tbody tr th {\n",
              "        vertical-align: top;\n",
              "    }\n",
              "\n",
              "    .dataframe thead th {\n",
              "        text-align: right;\n",
              "    }\n",
              "</style>\n",
              "<table border=\"1\" class=\"dataframe\">\n",
              "  <thead>\n",
              "    <tr style=\"text-align: right;\">\n",
              "      <th></th>\n",
              "      <th>nr</th>\n",
              "      <th>x</th>\n",
              "      <th>y</th>\n",
              "      <th>cluster</th>\n",
              "      <th>1</th>\n",
              "      <th>2</th>\n",
              "    </tr>\n",
              "  </thead>\n",
              "  <tbody>\n",
              "    <tr>\n",
              "      <th>0</th>\n",
              "      <td>1</td>\n",
              "      <td>-5</td>\n",
              "      <td>0</td>\n",
              "      <td>2</td>\n",
              "      <td>NaN</td>\n",
              "      <td>NaN</td>\n",
              "    </tr>\n",
              "    <tr>\n",
              "      <th>1</th>\n",
              "      <td>2</td>\n",
              "      <td>-4</td>\n",
              "      <td>1</td>\n",
              "      <td>1</td>\n",
              "      <td>NaN</td>\n",
              "      <td>NaN</td>\n",
              "    </tr>\n",
              "    <tr>\n",
              "      <th>2</th>\n",
              "      <td>3</td>\n",
              "      <td>-3</td>\n",
              "      <td>-2</td>\n",
              "      <td>1</td>\n",
              "      <td>NaN</td>\n",
              "      <td>NaN</td>\n",
              "    </tr>\n",
              "    <tr>\n",
              "      <th>3</th>\n",
              "      <td>4</td>\n",
              "      <td>4</td>\n",
              "      <td>0</td>\n",
              "      <td>2</td>\n",
              "      <td>NaN</td>\n",
              "      <td>NaN</td>\n",
              "    </tr>\n",
              "    <tr>\n",
              "      <th>4</th>\n",
              "      <td>5</td>\n",
              "      <td>5</td>\n",
              "      <td>2</td>\n",
              "      <td>2</td>\n",
              "      <td>NaN</td>\n",
              "      <td>NaN</td>\n",
              "    </tr>\n",
              "  </tbody>\n",
              "</table>\n",
              "</div>\n",
              "      <button class=\"colab-df-convert\" onclick=\"convertToInteractive('df-a950cc77-c888-4410-a454-c70e7ac09db3')\"\n",
              "              title=\"Convert this dataframe to an interactive table.\"\n",
              "              style=\"display:none;\">\n",
              "        \n",
              "  <svg xmlns=\"http://www.w3.org/2000/svg\" height=\"24px\"viewBox=\"0 0 24 24\"\n",
              "       width=\"24px\">\n",
              "    <path d=\"M0 0h24v24H0V0z\" fill=\"none\"/>\n",
              "    <path d=\"M18.56 5.44l.94 2.06.94-2.06 2.06-.94-2.06-.94-.94-2.06-.94 2.06-2.06.94zm-11 1L8.5 8.5l.94-2.06 2.06-.94-2.06-.94L8.5 2.5l-.94 2.06-2.06.94zm10 10l.94 2.06.94-2.06 2.06-.94-2.06-.94-.94-2.06-.94 2.06-2.06.94z\"/><path d=\"M17.41 7.96l-1.37-1.37c-.4-.4-.92-.59-1.43-.59-.52 0-1.04.2-1.43.59L10.3 9.45l-7.72 7.72c-.78.78-.78 2.05 0 2.83L4 21.41c.39.39.9.59 1.41.59.51 0 1.02-.2 1.41-.59l7.78-7.78 2.81-2.81c.8-.78.8-2.07 0-2.86zM5.41 20L4 18.59l7.72-7.72 1.47 1.35L5.41 20z\"/>\n",
              "  </svg>\n",
              "      </button>\n",
              "      \n",
              "  <style>\n",
              "    .colab-df-container {\n",
              "      display:flex;\n",
              "      flex-wrap:wrap;\n",
              "      gap: 12px;\n",
              "    }\n",
              "\n",
              "    .colab-df-convert {\n",
              "      background-color: #E8F0FE;\n",
              "      border: none;\n",
              "      border-radius: 50%;\n",
              "      cursor: pointer;\n",
              "      display: none;\n",
              "      fill: #1967D2;\n",
              "      height: 32px;\n",
              "      padding: 0 0 0 0;\n",
              "      width: 32px;\n",
              "    }\n",
              "\n",
              "    .colab-df-convert:hover {\n",
              "      background-color: #E2EBFA;\n",
              "      box-shadow: 0px 1px 2px rgba(60, 64, 67, 0.3), 0px 1px 3px 1px rgba(60, 64, 67, 0.15);\n",
              "      fill: #174EA6;\n",
              "    }\n",
              "\n",
              "    [theme=dark] .colab-df-convert {\n",
              "      background-color: #3B4455;\n",
              "      fill: #D2E3FC;\n",
              "    }\n",
              "\n",
              "    [theme=dark] .colab-df-convert:hover {\n",
              "      background-color: #434B5C;\n",
              "      box-shadow: 0px 1px 3px 1px rgba(0, 0, 0, 0.15);\n",
              "      filter: drop-shadow(0px 1px 2px rgba(0, 0, 0, 0.3));\n",
              "      fill: #FFFFFF;\n",
              "    }\n",
              "  </style>\n",
              "\n",
              "      <script>\n",
              "        const buttonEl =\n",
              "          document.querySelector('#df-a950cc77-c888-4410-a454-c70e7ac09db3 button.colab-df-convert');\n",
              "        buttonEl.style.display =\n",
              "          google.colab.kernel.accessAllowed ? 'block' : 'none';\n",
              "\n",
              "        async function convertToInteractive(key) {\n",
              "          const element = document.querySelector('#df-a950cc77-c888-4410-a454-c70e7ac09db3');\n",
              "          const dataTable =\n",
              "            await google.colab.kernel.invokeFunction('convertToInteractive',\n",
              "                                                     [key], {});\n",
              "          if (!dataTable) return;\n",
              "\n",
              "          const docLinkHtml = 'Like what you see? Visit the ' +\n",
              "            '<a target=\"_blank\" href=https://colab.research.google.com/notebooks/data_table.ipynb>data table notebook</a>'\n",
              "            + ' to learn more about interactive tables.';\n",
              "          element.innerHTML = '';\n",
              "          dataTable['output_type'] = 'display_data';\n",
              "          await google.colab.output.renderOutput(dataTable, element);\n",
              "          const docLink = document.createElement('div');\n",
              "          docLink.innerHTML = docLinkHtml;\n",
              "          element.appendChild(docLink);\n",
              "        }\n",
              "      </script>\n",
              "    </div>\n",
              "  </div>\n",
              "  "
            ]
          },
          "metadata": {},
          "execution_count": 18
        }
      ]
    },
    {
      "cell_type": "markdown",
      "source": [
        "###Initial state plot"
      ],
      "metadata": {
        "id": "tuweLNGakzsE"
      }
    },
    {
      "cell_type": "code",
      "source": [
        "# adjust centroids DFs for plotting\n",
        "centroids2 = centroids.reset_index()\n",
        "centroids2.rename(columns={\"index\" : \"cluster\"}, inplace=True)\n",
        "centroids2[\"cluster\"] = centroids2[\"cluster\"].apply(lambda cluster: f\"c{cluster}\")\n",
        "\n",
        "# plot data with centroids\n",
        "sns.pairplot(train_df.iloc[:, 1:-k].sort_values(\"cluster\").append(centroids2, ignore_index=True), \n",
        "             hue='cluster', \n",
        "             markers=([\"o\"]*k)+([\"X\"]*k),\n",
        "             palette=sns.color_palette(\"bright\", k+k))"
      ],
      "metadata": {
        "colab": {
          "base_uri": "https://localhost:8080/",
          "height": 391
        },
        "id": "51fa2PaMfU7c",
        "outputId": "d7ccec8b-ad03-4818-8ad6-d81b635bb81c"
      },
      "execution_count": null,
      "outputs": [
        {
          "output_type": "execute_result",
          "data": {
            "text/plain": [
              "<seaborn.axisgrid.PairGrid at 0x7f3d946bf950>"
            ]
          },
          "metadata": {},
          "execution_count": 19
        },
        {
          "output_type": "display_data",
          "data": {
            "text/plain": [
              "<Figure size 407.875x360 with 6 Axes>"
            ],
            "image/png": "[encoded data removed]"
          },
          "metadata": {
            "needs_background": "light"
          }
        }
      ]
    },
    {
      "cell_type": "markdown",
      "source": [
        "##Adjust clusters' centroids until nothing changes"
      ],
      "metadata": {
        "id": "7eXEGxXQlq1V"
      }
    },
    {
      "cell_type": "code",
      "source": [
        "distances_df = pd.DataFrame(data=np.NaN, index=list(range(1, k+1)), columns=['distance_sq','cluster_size'])\n",
        "iterations = 0\n",
        "any_distance_changed = True\n",
        "while any_distance_changed:\n",
        "    any_distance_changed = False\n",
        "    \n",
        "    for i in range(1, k+1):   \n",
        "        temp = calculate_centroid(train_df, i)\n",
        "        if temp is not None:\n",
        "            centroids.loc[i] = temp\n",
        "\n",
        "    for i in range(1, k+1):\n",
        "        dist = get_dist_sq(train_df.iloc[:, 1:-k-1], centroids.loc[i])\n",
        "        dist_with_cluster = train_df.join(dist).loc[:, ['cluster', 'sum']]\n",
        "\n",
        "        distances_df.loc[i]['distance_sq'] = dist_with_cluster[dist_with_cluster['cluster']==i]['sum'].sum()\n",
        "        distances_df.loc[i]['cluster_size'] = len(dist_with_cluster[dist_with_cluster['cluster']==i])\n",
        "\n",
        "        if not train_df[i].equals(dist):\n",
        "            # print(dist)\n",
        "            train_df[i] = dist\n",
        "            any_distance_changed = True\n",
        "    \n",
        "    train_df[\"cluster\"] = train_df.iloc[:, -k:].idxmin(axis=1)\n",
        "    iterations += 1\n",
        "    print(\"iteration:\", iterations)\n",
        "    print(distances_df, end='\\n\\n')\n",
        "\n",
        "print()\n",
        "print(\"total iterations:\", iterations)\n",
        "print(\"centroids:\")\n",
        "print(centroids)\n",
        "train_df"
      ],
      "metadata": {
        "colab": {
          "base_uri": "https://localhost:8080/",
          "height": 571
        },
        "id": "XdQttZkqNfwy",
        "outputId": "1efe3ad2-3fba-447d-8cb8-77cb7ad84068"
      },
      "execution_count": null,
      "outputs": [
        {
          "output_type": "stream",
          "name": "stdout",
          "text": [
            "iteration: 1\n",
            "   distance_sq  cluster_size\n",
            "1     5.000000           2.0\n",
            "2    63.333333           3.0\n",
            "\n",
            "iteration: 2\n",
            "   distance_sq  cluster_size\n",
            "1     6.666667           3.0\n",
            "2     2.500000           2.0\n",
            "\n",
            "iteration: 3\n",
            "   distance_sq  cluster_size\n",
            "1     6.666667           3.0\n",
            "2     2.500000           2.0\n",
            "\n",
            "\n",
            "total iterations: 3\n",
            "centroids:\n",
            "     x         y\n",
            "1 -4.0 -0.333333\n",
            "2  4.5  1.000000\n"
          ]
        },
        {
          "output_type": "execute_result",
          "data": {
            "text/plain": [
              "   nr  x  y  cluster          1      2\n",
              "0   1 -5  0        1   1.111111  91.25\n",
              "1   2 -4  1        1   1.777778  72.25\n",
              "2   3 -3 -2        1   3.777778  65.25\n",
              "3   4  4  0        2  64.111111   1.25\n",
              "4   5  5  2        2  86.444444   1.25"
            ],
            "text/html": [
              "\n",
              "  <div id=\"df-590e0105-11f1-4755-b1c7-9fc7f2a291ed\">\n",
              "    <div class=\"colab-df-container\">\n",
              "      <div>\n",
              "<style scoped>\n",
              "    .dataframe tbody tr th:only-of-type {\n",
              "        vertical-align: middle;\n",
              "    }\n",
              "\n",
              "    .dataframe tbody tr th {\n",
              "        vertical-align: top;\n",
              "    }\n",
              "\n",
              "    .dataframe thead th {\n",
              "        text-align: right;\n",
              "    }\n",
              "</style>\n",
              "<table border=\"1\" class=\"dataframe\">\n",
              "  <thead>\n",
              "    <tr style=\"text-align: right;\">\n",
              "      <th></th>\n",
              "      <th>nr</th>\n",
              "      <th>x</th>\n",
              "      <th>y</th>\n",
              "      <th>cluster</th>\n",
              "      <th>1</th>\n",
              "      <th>2</th>\n",
              "    </tr>\n",
              "  </thead>\n",
              "  <tbody>\n",
              "    <tr>\n",
              "      <th>0</th>\n",
              "      <td>1</td>\n",
              "      <td>-5</td>\n",
              "      <td>0</td>\n",
              "      <td>1</td>\n",
              "      <td>1.111111</td>\n",
              "      <td>91.25</td>\n",
              "    </tr>\n",
              "    <tr>\n",
              "      <th>1</th>\n",
              "      <td>2</td>\n",
              "      <td>-4</td>\n",
              "      <td>1</td>\n",
              "      <td>1</td>\n",
              "      <td>1.777778</td>\n",
              "      <td>72.25</td>\n",
              "    </tr>\n",
              "    <tr>\n",
              "      <th>2</th>\n",
              "      <td>3</td>\n",
              "      <td>-3</td>\n",
              "      <td>-2</td>\n",
              "      <td>1</td>\n",
              "      <td>3.777778</td>\n",
              "      <td>65.25</td>\n",
              "    </tr>\n",
              "    <tr>\n",
              "      <th>3</th>\n",
              "      <td>4</td>\n",
              "      <td>4</td>\n",
              "      <td>0</td>\n",
              "      <td>2</td>\n",
              "      <td>64.111111</td>\n",
              "      <td>1.25</td>\n",
              "    </tr>\n",
              "    <tr>\n",
              "      <th>4</th>\n",
              "      <td>5</td>\n",
              "      <td>5</td>\n",
              "      <td>2</td>\n",
              "      <td>2</td>\n",
              "      <td>86.444444</td>\n",
              "      <td>1.25</td>\n",
              "    </tr>\n",
              "  </tbody>\n",
              "</table>\n",
              "</div>\n",
              "      <button class=\"colab-df-convert\" onclick=\"convertToInteractive('df-590e0105-11f1-4755-b1c7-9fc7f2a291ed')\"\n",
              "              title=\"Convert this dataframe to an interactive table.\"\n",
              "              style=\"display:none;\">\n",
              "        \n",
              "  <svg xmlns=\"http://www.w3.org/2000/svg\" height=\"24px\"viewBox=\"0 0 24 24\"\n",
              "       width=\"24px\">\n",
              "    <path d=\"M0 0h24v24H0V0z\" fill=\"none\"/>\n",
              "    <path d=\"M18.56 5.44l.94 2.06.94-2.06 2.06-.94-2.06-.94-.94-2.06-.94 2.06-2.06.94zm-11 1L8.5 8.5l.94-2.06 2.06-.94-2.06-.94L8.5 2.5l-.94 2.06-2.06.94zm10 10l.94 2.06.94-2.06 2.06-.94-2.06-.94-.94-2.06-.94 2.06-2.06.94z\"/><path d=\"M17.41 7.96l-1.37-1.37c-.4-.4-.92-.59-1.43-.59-.52 0-1.04.2-1.43.59L10.3 9.45l-7.72 7.72c-.78.78-.78 2.05 0 2.83L4 21.41c.39.39.9.59 1.41.59.51 0 1.02-.2 1.41-.59l7.78-7.78 2.81-2.81c.8-.78.8-2.07 0-2.86zM5.41 20L4 18.59l7.72-7.72 1.47 1.35L5.41 20z\"/>\n",
              "  </svg>\n",
              "      </button>\n",
              "      \n",
              "  <style>\n",
              "    .colab-df-container {\n",
              "      display:flex;\n",
              "      flex-wrap:wrap;\n",
              "      gap: 12px;\n",
              "    }\n",
              "\n",
              "    .colab-df-convert {\n",
              "      background-color: #E8F0FE;\n",
              "      border: none;\n",
              "      border-radius: 50%;\n",
              "      cursor: pointer;\n",
              "      display: none;\n",
              "      fill: #1967D2;\n",
              "      height: 32px;\n",
              "      padding: 0 0 0 0;\n",
              "      width: 32px;\n",
              "    }\n",
              "\n",
              "    .colab-df-convert:hover {\n",
              "      background-color: #E2EBFA;\n",
              "      box-shadow: 0px 1px 2px rgba(60, 64, 67, 0.3), 0px 1px 3px 1px rgba(60, 64, 67, 0.15);\n",
              "      fill: #174EA6;\n",
              "    }\n",
              "\n",
              "    [theme=dark] .colab-df-convert {\n",
              "      background-color: #3B4455;\n",
              "      fill: #D2E3FC;\n",
              "    }\n",
              "\n",
              "    [theme=dark] .colab-df-convert:hover {\n",
              "      background-color: #434B5C;\n",
              "      box-shadow: 0px 1px 3px 1px rgba(0, 0, 0, 0.15);\n",
              "      filter: drop-shadow(0px 1px 2px rgba(0, 0, 0, 0.3));\n",
              "      fill: #FFFFFF;\n",
              "    }\n",
              "  </style>\n",
              "\n",
              "      <script>\n",
              "        const buttonEl =\n",
              "          document.querySelector('#df-590e0105-11f1-4755-b1c7-9fc7f2a291ed button.colab-df-convert');\n",
              "        buttonEl.style.display =\n",
              "          google.colab.kernel.accessAllowed ? 'block' : 'none';\n",
              "\n",
              "        async function convertToInteractive(key) {\n",
              "          const element = document.querySelector('#df-590e0105-11f1-4755-b1c7-9fc7f2a291ed');\n",
              "          const dataTable =\n",
              "            await google.colab.kernel.invokeFunction('convertToInteractive',\n",
              "                                                     [key], {});\n",
              "          if (!dataTable) return;\n",
              "\n",
              "          const docLinkHtml = 'Like what you see? Visit the ' +\n",
              "            '<a target=\"_blank\" href=https://colab.research.google.com/notebooks/data_table.ipynb>data table notebook</a>'\n",
              "            + ' to learn more about interactive tables.';\n",
              "          element.innerHTML = '';\n",
              "          dataTable['output_type'] = 'display_data';\n",
              "          await google.colab.output.renderOutput(dataTable, element);\n",
              "          const docLink = document.createElement('div');\n",
              "          docLink.innerHTML = docLinkHtml;\n",
              "          element.appendChild(docLink);\n",
              "        }\n",
              "      </script>\n",
              "    </div>\n",
              "  </div>\n",
              "  "
            ]
          },
          "metadata": {},
          "execution_count": 20
        }
      ]
    },
    {
      "cell_type": "markdown",
      "source": [
        "###Final state plot"
      ],
      "metadata": {
        "id": "K_UtVn-ek678"
      }
    },
    {
      "cell_type": "code",
      "source": [
        "# adjust centroids DFs for plotting\n",
        "centroids2 = centroids.reset_index()\n",
        "centroids2.rename(columns={\"index\" : \"cluster\"}, inplace=True)\n",
        "centroids2[\"cluster\"] = centroids2[\"cluster\"].apply(lambda cluster: f\"c{cluster}\")\n",
        "\n",
        "not_empty_cluster_count = len(train_df[\"cluster\"].unique())\n",
        "\n",
        "# plot data with centroids\n",
        "sns.pairplot(train_df.iloc[:, 1:-k].append(centroids2, ignore_index=True), \n",
        "             hue='cluster',\n",
        "             markers=[\"o\"]*not_empty_cluster_count+([\"X\"]*k),\n",
        "             palette=sns.color_palette(\"bright\", not_empty_cluster_count+k))"
      ],
      "metadata": {
        "colab": {
          "base_uri": "https://localhost:8080/",
          "height": 391
        },
        "id": "mTWggMtbAhpF",
        "outputId": "b9997925-be60-480d-b490-36a6b2482c58"
      },
      "execution_count": null,
      "outputs": [
        {
          "output_type": "execute_result",
          "data": {
            "text/plain": [
              "<seaborn.axisgrid.PairGrid at 0x7f3d94475750>"
            ]
          },
          "metadata": {},
          "execution_count": 21
        },
        {
          "output_type": "display_data",
          "data": {
            "text/plain": [
              "<Figure size 407.875x360 with 6 Axes>"
            ],
            "image/png": "[encoded data removed]"
          },
          "metadata": {
            "needs_background": "light"
          }
        }
      ]
    },
    {
      "cell_type": "markdown",
      "source": [
        "##Percentage of classes in clusters"
      ],
      "metadata": {
        "id": "h8aKDlehmMJN"
      }
    },
    {
      "cell_type": "code",
      "source": [
        "answer_df = base_df.iloc[:, [0, -1]]\n",
        "answer_df = pd.merge(answer_df, train_df.iloc[:, [0, -k-1]], on=answer_df.columns[0])\n",
        "\n",
        "percent_df = answer_df.groupby(['cluster', answer_df.columns[1]]).count().groupby(level=0).transform(lambda x: (x / x.sum() * 100).round(2))\n",
        "percent_df.rename(columns={\"nr\": \"%\"}, inplace=True)\n",
        "percent_df"
      ],
      "metadata": {
        "colab": {
          "base_uri": "https://localhost:8080/",
          "height": 143
        },
        "id": "IdblwlUm_yCj",
        "outputId": "fc5bef58-ca6b-44a7-8c1c-a0dbaf824bfc"
      },
      "execution_count": null,
      "outputs": [
        {
          "output_type": "execute_result",
          "data": {
            "text/plain": [
              "                        %\n",
              "cluster class            \n",
              "1       versicolor  100.0\n",
              "2       setosa      100.0"
            ],
            "text/html": [
              "\n",
              "  <div id=\"df-98c30f04-1cec-49d1-a7da-909b4cece738\">\n",
              "    <div class=\"colab-df-container\">\n",
              "      <div>\n",
              "<style scoped>\n",
              "    .dataframe tbody tr th:only-of-type {\n",
              "        vertical-align: middle;\n",
              "    }\n",
              "\n",
              "    .dataframe tbody tr th {\n",
              "        vertical-align: top;\n",
              "    }\n",
              "\n",
              "    .dataframe thead th {\n",
              "        text-align: right;\n",
              "    }\n",
              "</style>\n",
              "<table border=\"1\" class=\"dataframe\">\n",
              "  <thead>\n",
              "    <tr style=\"text-align: right;\">\n",
              "      <th></th>\n",
              "      <th></th>\n",
              "      <th>%</th>\n",
              "    </tr>\n",
              "    <tr>\n",
              "      <th>cluster</th>\n",
              "      <th>class</th>\n",
              "      <th></th>\n",
              "    </tr>\n",
              "  </thead>\n",
              "  <tbody>\n",
              "    <tr>\n",
              "      <th>1</th>\n",
              "      <th>versicolor</th>\n",
              "      <td>100.0</td>\n",
              "    </tr>\n",
              "    <tr>\n",
              "      <th>2</th>\n",
              "      <th>setosa</th>\n",
              "      <td>100.0</td>\n",
              "    </tr>\n",
              "  </tbody>\n",
              "</table>\n",
              "</div>\n",
              "      <button class=\"colab-df-convert\" onclick=\"convertToInteractive('df-98c30f04-1cec-49d1-a7da-909b4cece738')\"\n",
              "              title=\"Convert this dataframe to an interactive table.\"\n",
              "              style=\"display:none;\">\n",
              "        \n",
              "  <svg xmlns=\"http://www.w3.org/2000/svg\" height=\"24px\"viewBox=\"0 0 24 24\"\n",
              "       width=\"24px\">\n",
              "    <path d=\"M0 0h24v24H0V0z\" fill=\"none\"/>\n",
              "    <path d=\"M18.56 5.44l.94 2.06.94-2.06 2.06-.94-2.06-.94-.94-2.06-.94 2.06-2.06.94zm-11 1L8.5 8.5l.94-2.06 2.06-.94-2.06-.94L8.5 2.5l-.94 2.06-2.06.94zm10 10l.94 2.06.94-2.06 2.06-.94-2.06-.94-.94-2.06-.94 2.06-2.06.94z\"/><path d=\"M17.41 7.96l-1.37-1.37c-.4-.4-.92-.59-1.43-.59-.52 0-1.04.2-1.43.59L10.3 9.45l-7.72 7.72c-.78.78-.78 2.05 0 2.83L4 21.41c.39.39.9.59 1.41.59.51 0 1.02-.2 1.41-.59l7.78-7.78 2.81-2.81c.8-.78.8-2.07 0-2.86zM5.41 20L4 18.59l7.72-7.72 1.47 1.35L5.41 20z\"/>\n",
              "  </svg>\n",
              "      </button>\n",
              "      \n",
              "  <style>\n",
              "    .colab-df-container {\n",
              "      display:flex;\n",
              "      flex-wrap:wrap;\n",
              "      gap: 12px;\n",
              "    }\n",
              "\n",
              "    .colab-df-convert {\n",
              "      background-color: #E8F0FE;\n",
              "      border: none;\n",
              "      border-radius: 50%;\n",
              "      cursor: pointer;\n",
              "      display: none;\n",
              "      fill: #1967D2;\n",
              "      height: 32px;\n",
              "      padding: 0 0 0 0;\n",
              "      width: 32px;\n",
              "    }\n",
              "\n",
              "    .colab-df-convert:hover {\n",
              "      background-color: #E2EBFA;\n",
              "      box-shadow: 0px 1px 2px rgba(60, 64, 67, 0.3), 0px 1px 3px 1px rgba(60, 64, 67, 0.15);\n",
              "      fill: #174EA6;\n",
              "    }\n",
              "\n",
              "    [theme=dark] .colab-df-convert {\n",
              "      background-color: #3B4455;\n",
              "      fill: #D2E3FC;\n",
              "    }\n",
              "\n",
              "    [theme=dark] .colab-df-convert:hover {\n",
              "      background-color: #434B5C;\n",
              "      box-shadow: 0px 1px 3px 1px rgba(0, 0, 0, 0.15);\n",
              "      filter: drop-shadow(0px 1px 2px rgba(0, 0, 0, 0.3));\n",
              "      fill: #FFFFFF;\n",
              "    }\n",
              "  </style>\n",
              "\n",
              "      <script>\n",
              "        const buttonEl =\n",
              "          document.querySelector('#df-98c30f04-1cec-49d1-a7da-909b4cece738 button.colab-df-convert');\n",
              "        buttonEl.style.display =\n",
              "          google.colab.kernel.accessAllowed ? 'block' : 'none';\n",
              "\n",
              "        async function convertToInteractive(key) {\n",
              "          const element = document.querySelector('#df-98c30f04-1cec-49d1-a7da-909b4cece738');\n",
              "          const dataTable =\n",
              "            await google.colab.kernel.invokeFunction('convertToInteractive',\n",
              "                                                     [key], {});\n",
              "          if (!dataTable) return;\n",
              "\n",
              "          const docLinkHtml = 'Like what you see? Visit the ' +\n",
              "            '<a target=\"_blank\" href=https://colab.research.google.com/notebooks/data_table.ipynb>data table notebook</a>'\n",
              "            + ' to learn more about interactive tables.';\n",
              "          element.innerHTML = '';\n",
              "          dataTable['output_type'] = 'display_data';\n",
              "          await google.colab.output.renderOutput(dataTable, element);\n",
              "          const docLink = document.createElement('div');\n",
              "          docLink.innerHTML = docLinkHtml;\n",
              "          element.appendChild(docLink);\n",
              "        }\n",
              "      </script>\n",
              "    </div>\n",
              "  </div>\n",
              "  "
            ]
          },
          "metadata": {},
          "execution_count": 22
        }
      ]
    }
  ]
}