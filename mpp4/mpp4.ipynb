{
  "nbformat": 4,
  "nbformat_minor": 0,
  "metadata": {
    "colab": {
      "name": "mpp4.ipynb",
      "provenance": [],
      "collapsed_sections": [],
      "authorship_tag": "ABX9TyM+EkXtzqDQvWrB015Lp8hI",
      "include_colab_link": true
    },
    "kernelspec": {
      "name": "python3",
      "display_name": "Python 3"
    },
    "language_info": {
      "name": "python"
    }
  },
  "cells": [
    {
      "cell_type": "markdown",
      "metadata": {
        "id": "view-in-github",
        "colab_type": "text"
      },
      "source": [
        "<a href=\"https://colab.research.google.com/github/magladko/NAI/blob/master/mpp4/mpp4.ipynb\" target=\"_parent\"><img src=\"https://colab.research.google.com/assets/colab-badge.svg\" alt=\"Open In Colab\"/></a>"
      ]
    },
    {
      "cell_type": "markdown",
      "source": [
        "#K-means – NAI mini-project\n",
        "###*Kornel Gładkowski @s22411*"
      ],
      "metadata": {
        "id": "5_J54hV_T7zl"
      }
    },
    {
      "cell_type": "markdown",
      "source": [
        "##Import libs, mount Google Drive & set project PATH"
      ],
      "metadata": {
        "id": "B8Uhd2LtUJip"
      }
    },
    {
      "cell_type": "code",
      "execution_count": 6,
      "metadata": {
        "id": "dbpK7UIhSzzN"
      },
      "outputs": [],
      "source": [
        "import matplotlib as plt\n",
        "import seaborn as sns\n",
        "import pandas as pd\n",
        "import numpy as np\n",
        "\n",
        "# from google.colab import drive\n",
        "# drive.mount('/content/drive')"
      ]
    },
    {
      "cell_type": "code",
      "source": [
        "# PATH = \"/content/drive/MyDrive/4. semestr/NAI/mpp4\"\n",
        "\n",
        "!git clone https://github.com/magladko/NAI.git\n",
        "DATA_PATH = \"/content/NAI/mpp4/data\""
      ],
      "metadata": {
        "colab": {
          "base_uri": "https://localhost:8080/"
        },
        "id": "qWWHyrsRTu2B",
        "outputId": "fde04aba-b2a8-4ace-9e2f-47d82cfae367"
      },
      "execution_count": 16,
      "outputs": [
        {
          "output_type": "stream",
          "name": "stdout",
          "text": [
            "fatal: destination path 'NAI' already exists and is not an empty directory.\n"
          ]
        }
      ]
    },
    {
      "cell_type": "markdown",
      "source": [
        "##Set user input"
      ],
      "metadata": {
        "id": "w5RbMIbCUSkN"
      }
    },
    {
      "cell_type": "code",
      "source": [
        "#@title Enter number of class\n",
        "k = 3 #@param {type:\"slider\", min:1, max:10, step:1}\n"
      ],
      "metadata": {
        "id": "VNmUTZBIVhzk"
      },
      "execution_count": null,
      "outputs": []
    },
    {
      "cell_type": "markdown",
      "source": [
        "##Read data"
      ],
      "metadata": {
        "id": "lxkxf7i8WJxa"
      }
    },
    {
      "cell_type": "code",
      "source": [
        ""
      ],
      "metadata": {
        "id": "LTCBCUz4WPZ3"
      },
      "execution_count": null,
      "outputs": []
    }
  ]
}